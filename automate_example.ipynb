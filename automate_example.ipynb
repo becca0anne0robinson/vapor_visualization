{
 "cells": [
  {
   "cell_type": "code",
   "execution_count": 1,
   "id": "35ba68f2-2d01-45ca-a79c-15f4ed575b13",
   "metadata": {},
   "outputs": [],
   "source": [
    "import pyautogui\n",
    "import time\n",
    "import numpy as np\n",
    "\n",
    "import os\n",
    "import imageio\n",
    "import moviepy.editor as mp\n",
    "\n",
    "from time import sleep as sleep\n",
    "from pyautogui import moveTo as mv\n",
    "from pyautogui import click as click\n",
    "from pyautogui import typewrite as write\n",
    "from pyautogui import press as press"
   ]
  },
  {
   "cell_type": "markdown",
   "id": "e25a1410-180e-49e6-b023-68f872849628",
   "metadata": {},
   "source": [
    "Automate repetitive Vapor processes to later make an animation"
   ]
  },
  {
   "cell_type": "code",
   "execution_count": 2,
   "id": "f6685d3d-2580-43c3-97d2-624155275aac",
   "metadata": {},
   "outputs": [],
   "source": [
    " # Written for a screen with dimensions (x = 1440, y = 900)\n",
    "sleep(5)\n",
    "\n",
    "snaprange = np.arange(1291,1295)\n",
    "\n",
    "for snp in snaprange:\n",
    "    \n",
    "    # 1. File / Click \n",
    "    mv(120, 0, duration=0.5)\n",
    "    sleep(0.2)\n",
    "    click(clicks=1)\n",
    "    \n",
    "    # 2. Import netCDF\n",
    "    mv(149, 81, duration = 0.5) # \"Import\"\n",
    "    mv(363, 105, duration = 0.5) # \"NetCDF-CF\"\n",
    "    click(clicks=1)\n",
    "    \n",
    "    # 3. Search for File & Click\n",
    "    mv(1072, 143, duration = 0.5) # To Search Bar\n",
    "    sleep(0.5)\n",
    "    click(clicks=1)\n",
    "    sleep(0.5)\n",
    "    # write(\"sampledata_\"+str(snp)+\".nc\")\n",
    "    write(\"name:sampledata_\"+str(snp)+\".nc\")\n",
    "    sleep(1)\n",
    "    mv(412, 248, duration = 0.5) # Selects the **FIRST** file in the list -- careful with this!\n",
    "    click(clicks=1)\n",
    "    press(\"enter\")\n",
    "    \n",
    "    # 4. Load Data / Old Data / Select\n",
    "    mv(637, 429, duration=0.5) # Click dropdown menu\n",
    "    click(clicks=1)\n",
    "    mv(634, 446, duration=0.5) # Replace old data\n",
    "    click(clicks=1)\n",
    "    press(\"enter\")\n",
    "    \n",
    "    sleep(10)\n",
    "    \n",
    "    # 5. Update seed files for Flow renderer\n",
    "    mv(150, 152, duration = 0.5) # Location of first renderer\n",
    "    click(clicks=1)\n",
    "    mv(361, 712, duration = 0.5) # Location of \"Select\"\n",
    "    click(clicks=1)\n",
    "    mv(1078, 142, duration = 0.5) # To Search Bar\n",
    "    click(clicks=1)\n",
    "    write(\"name:corks_coords_\"+str(snp)+\".csv\")\n",
    "    sleep(1)\n",
    "    mv(480, 250, duration = 0.5)\n",
    "    click(clicks=1)\n",
    "    press(\"enter\")\n",
    "\n",
    "    # 6. Save PNG to correct directory\n",
    "    mv(274, 0, duration=0.5) # \"Capture\"\n",
    "    sleep(0.2)\n",
    "    click(clicks=1)\n",
    "    mv(289, 39, duration=0.5) # \"Single Image\"\n",
    "    mv(436, 36, duration=0.5) # \"png\"\n",
    "    click(clicks=1)\n",
    "    sleep(0.5)\n",
    "    press(\"enter\")\n",
    "    \n",
    "    mv(725, 178, duration=0.5)\n",
    "    click(clicks=1)\n",
    "    mv(722, 302, duration=0.5) # Selects the **FIRST** directory in Recents!\n",
    "    click(clicks=1)\n",
    "    mv(680, 105, duration=0.5)\n",
    "    click(clicks=1)\n",
    "    write(\"sample_rope_\"+str(snp))\n",
    "    press(\"enter\")\n",
    "    \n",
    "    sleep(3)\n",
    "    \n",
    "    "
   ]
  },
  {
   "cell_type": "markdown",
   "id": "1e2f0e2c-52db-4d6a-9a92-ed082c4de061",
   "metadata": {},
   "source": [
    "Make an animation"
   ]
  },
  {
   "cell_type": "code",
   "execution_count": 3,
   "id": "3c5a8171-a89e-434d-b276-506adfc93984",
   "metadata": {},
   "outputs": [
    {
     "name": "stdout",
     "output_type": "stream",
     "text": [
      "sample_rope_1291.png\n",
      "sample_rope_1292.png\n",
      "sample_rope_1293.png\n",
      "sample_rope_1294.png\n",
      "Moviepy - Building video sample_rope.mp4.\n",
      "Moviepy - Writing video sample_rope.mp4\n",
      "\n"
     ]
    },
    {
     "name": "stderr",
     "output_type": "stream",
     "text": [
      "                                                                                \r"
     ]
    },
    {
     "name": "stdout",
     "output_type": "stream",
     "text": [
      "Moviepy - Done !\n",
      "Moviepy - video ready sample_rope.mp4\n"
     ]
    }
   ],
   "source": [
    "directory = '.' \n",
    "imagelist = []\n",
    "\n",
    "for fname in sorted(os.listdir(directory)):\n",
    "    if fname.startswith('sample_'):\n",
    "        if fname.endswith(\".png\"):\n",
    "            print(fname)\n",
    "            imagelist.append(imageio.imread(fname))\n",
    "            \n",
    "imageio.mimwrite('sample_rope.gif', imagelist, fps=10)\n",
    "clip = mp.VideoFileClip('sample_rope.gif')\n",
    "clip.write_videofile('sample_rope.mp4')"
   ]
  },
  {
   "cell_type": "code",
   "execution_count": null,
   "id": "c6435532-ba12-4864-bca7-01c937f65e18",
   "metadata": {},
   "outputs": [],
   "source": []
  }
 ],
 "metadata": {
  "kernelspec": {
   "display_name": "Python 3 (ipykernel)",
   "language": "python",
   "name": "python3"
  },
  "language_info": {
   "codemirror_mode": {
    "name": "ipython",
    "version": 3
   },
   "file_extension": ".py",
   "mimetype": "text/x-python",
   "name": "python",
   "nbconvert_exporter": "python",
   "pygments_lexer": "ipython3",
   "version": "3.8.8"
  }
 },
 "nbformat": 4,
 "nbformat_minor": 5
}
