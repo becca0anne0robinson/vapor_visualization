{
 "cells": [
  {
   "cell_type": "markdown",
   "id": "60e839bc-40a2-4095-99c0-afa5ae69e5db",
   "metadata": {},
   "source": [
    "Import basic packages:"
   ]
  },
  {
   "cell_type": "code",
   "execution_count": null,
   "id": "bf6a1b77-f0fb-4531-8371-c6b4d5f8718f",
   "metadata": {},
   "outputs": [],
   "source": [
    "import numpy as np\n",
    "import matplotlib.pyplot as plt\n",
    "import os"
   ]
  },
  {
   "cell_type": "markdown",
   "id": "5e63b826-a6ec-4f33-aab7-7d53010134ae",
   "metadata": {},
   "source": [
    "Import packages for handling Bifrost and netCDF files:"
   ]
  },
  {
   "cell_type": "code",
   "execution_count": null,
   "id": "1a887165-b92f-4dab-b578-68d276ce2d46",
   "metadata": {},
   "outputs": [],
   "source": [
    "import helita\n",
    "from helita.sim.bifrost import BifrostData\n",
    "from helita.sim import cstagger\n",
    "from netCDF4 import Dataset"
   ]
  },
  {
   "cell_type": "markdown",
   "id": "dc5d0e67-f429-490b-bb9e-8aad95e6154a",
   "metadata": {},
   "source": [
    "Gather output data from Bifrost simulation:"
   ]
  },
  {
   "cell_type": "code",
   "execution_count": null,
   "id": "abd2f8d6-d5d2-4092-81d7-9b36943b5dcf",
   "metadata": {},
   "outputs": [],
   "source": [
    "# Fetch particular snapshot(s) from a given simulation\n",
    "\n",
    "path = '/mn/stornext/d9/data/rebecrob/betzy_runs/qs012023_bz000_corks/corks_on_1123/qs012023_bz000' # Simulation root\n",
    "snp = 1292 # Snapshot\n",
    "\n",
    "d = BifrostData(path,snap=snp)\n",
    "\n",
    "# Fetch desired variables\n",
    "\n",
    "x = d.x\n",
    "y = d.y\n",
    "z = d.z\n",
    "\n",
    "bx = d.get_var('bxc')\n",
    "by = d.get_var('byc') \n",
    "bz = d.get_var('bzc') \n",
    "\n",
    "# Calculate secondary variables\n",
    "\n",
    "bmag = np.sqrt(bx**2 + by**2 + bz**2)\n",
    "bxs, bys, bzs = bx/bmag, by/bmag, bz/bmag # Unit variables for Flow renderer\n",
    "\n",
    "# Calculate current density\n",
    "jx = (cstagger.do(cstagger.do(bz, 'ddyup'), 'ydn') - cstagger.do(cstagger.do(by, 'ddzup'), 'zdn'))\n",
    "jy = (-cstagger.do(cstagger.do(bz, 'ddxup'), 'xdn') + cstagger.do(cstagger.do(bx, 'ddzup'), 'zdn'))\n",
    "jz = (cstagger.do(cstagger.do(by, 'ddxup'), 'xdn') - cstagger.do(cstagger.do(bx, 'ddyup'), 'ydn'))\n",
    "\n",
    "jmag = np.sqrt(jx**2 + jy**2 + jz**2)\n",
    "j_b = jmag / bmag"
   ]
  },
  {
   "cell_type": "markdown",
   "id": "0dc9d999-1615-45ee-bdf4-ec4debdad5eb",
   "metadata": {},
   "source": [
    "Write data to netCDF-CF compliant -- this is readable in Vapor"
   ]
  },
  {
   "cell_type": "code",
   "execution_count": null,
   "id": "4a834b23-86dd-4b73-83da-f11c4ae38fc5",
   "metadata": {},
   "outputs": [],
   "source": [
    "nc = Dataset('sampledata_'+str(snp)+'.nc', 'w', format='NETCDF4_CLASSIC')\n",
    "nc.Conventions = 'CF-1.7' \n",
    "nc.createDimension('__time', None)\n",
    "nc.createDimension('x', x.size)\n",
    "nc.createDimension('y', y.size)\n",
    "nc.createDimension('z', z.size)\n",
    "\n",
    "\n",
    "jb_var = nc.createVariable('j_b', datatype=np.float32,dimensions=('x','y','z'))\n",
    "jb_var[:] = j_b\n",
    "jb_var.units = 'Bifrost'\n",
    "\n",
    "bx_var = nc.createVariable('bxs', datatype=np.float32,dimensions=('x','y','z'))\n",
    "bx_var[:] = bxs\n",
    "bx_var.units= 'Bifrost'\n",
    "\n",
    "by_var = nc.createVariable('bys', datatype=np.float32,dimensions=('x','y','z'))\n",
    "by_var[:] = bys\n",
    "by_var.units= 'Bifrost'\n",
    "\n",
    "bz_var = nc.createVariable('bzs', datatype=np.float32,dimensions=('x','y','z'))\n",
    "bz_var[:] = bzs\n",
    "bz_var.units= 'Bifrost'\n",
    "\n",
    "bmag_var = nc.createVariable('bmag', datatype=np.float32,dimensions=('x','y','z'))\n",
    "bmag_var[:] = bmag\n",
    "bmag_var.units= 'Bifrost'\n",
    "\n",
    "x_var = nc.createVariable('x', np.float32, ('x',))\n",
    "x_var[:] = x\n",
    "x_var.units = 'Mm'\n",
    "x_var.axis = 'X' # Optional\n",
    "\n",
    "y_var = nc.createVariable('y', np.float32, ('y',))\n",
    "y_var[:] = y\n",
    "y_var.units = 'Mm'\n",
    "y_var.axis = 'Y' # Optional\n",
    "\n",
    "z_var = nc.createVariable('z', np.float32, ('z',))\n",
    "z_var[:] = z\n",
    "z_var.units = 'Mm'\n",
    "z_var.axis = 'Z' # Optional\n",
    "\n",
    "nc.close()"
   ]
  },
  {
   "cell_type": "code",
   "execution_count": null,
   "id": "e6bce2a3-569e-419e-8579-29494a00b137",
   "metadata": {},
   "outputs": [],
   "source": []
  },
  {
   "cell_type": "code",
   "execution_count": null,
   "id": "f806d2a7-d24d-417c-9c17-4a19268b219c",
   "metadata": {},
   "outputs": [],
   "source": []
  }
 ],
 "metadata": {
  "kernelspec": {
   "display_name": "Python 3 (ipykernel)",
   "language": "python",
   "name": "python3"
  },
  "language_info": {
   "codemirror_mode": {
    "name": "ipython",
    "version": 3
   },
   "file_extension": ".py",
   "mimetype": "text/x-python",
   "name": "python",
   "nbconvert_exporter": "python",
   "pygments_lexer": "ipython3",
   "version": "3.9.7"
  }
 },
 "nbformat": 4,
 "nbformat_minor": 5
}
